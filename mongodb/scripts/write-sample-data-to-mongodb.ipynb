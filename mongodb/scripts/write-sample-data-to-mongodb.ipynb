{
 "cells": [
  {
   "cell_type": "code",
   "execution_count": null,
   "source": [
    "\"\"\"\n",
    "    This script is to write sample data to mongodb\n",
    "\"\"\""
   ],
   "outputs": [],
   "metadata": {}
  },
  {
   "cell_type": "code",
   "execution_count": null,
   "source": [
    "import pymongo\n",
    "from faker import Faker\n",
    "import pandas as pd\n",
    "from typing import List\n",
    "from decimal import Decimal\n",
    "from bson.decimal128 import Decimal128\n",
    "import json\n",
    "import time"
   ],
   "outputs": [],
   "metadata": {}
  },
  {
   "cell_type": "code",
   "execution_count": null,
   "source": [
    "faker = Faker(['zh_TW'])"
   ],
   "outputs": [],
   "metadata": {}
  },
  {
   "cell_type": "code",
   "execution_count": null,
   "source": [
    "def create_sample_data():\n",
    "    \"\"\"\n",
    "        This function is to create sample data\n",
    "    \"\"\"\n",
    "    return faker.profile()\n",
    "    # return faker.profile(current_location = None)"
   ],
   "outputs": [],
   "metadata": {}
  },
  {
   "cell_type": "code",
   "execution_count": null,
   "source": [
    "def preview_datas_with_dataframe(\n",
    "    _datas: List[dict]\n",
    "):\n",
    "    \"\"\"\n",
    "        This function is to preview data as dataframe\n",
    "    \"\"\"\n",
    "    df = pd.DataFrame(_datas)\n",
    "    display(df)"
   ],
   "outputs": [],
   "metadata": {}
  },
  {
   "cell_type": "code",
   "execution_count": null,
   "source": [
    "def transform_dataframe_to_json(\n",
    "    _datas: List[dict]\n",
    "):\n",
    "    \"\"\"\n",
    "        This function is to transform dataframe to json\n",
    "    \"\"\"\n",
    "    df = pd.DataFrame(_datas)\n",
    "    df_as_json = df.to_json(orient = 'records')\n",
    "    return json.loads(df_as_json)"
   ],
   "outputs": [],
   "metadata": {}
  },
  {
   "cell_type": "code",
   "execution_count": null,
   "source": [
    "def insert_datas_to_mongodb(\n",
    "    _mongodb_host: str,\n",
    "    _mongodb_port: int,\n",
    "    _mongodb_database_name: str,\n",
    "    _mongodb_collection_name: str,\n",
    "    _datas: List[dict]\n",
    "):\n",
    "    \"\"\"\n",
    "        This function isto insert datas to mongodb\n",
    "    \"\"\"\n",
    "    mongodb_string = f'mongodb://{_mongodb_host}:{_mongodb_port}'\n",
    "    mongodb_client = pymongo.MongoClient(mongodb_string)\n",
    "    mongodb_database = mongodb_client[_mongodb_database_name]\n",
    "    mongodb_collection = mongodb_database[_mongodb_collection_name]\n",
    "    mongodb_collection.insert_many(_datas)\n"
   ],
   "outputs": [],
   "metadata": {}
  },
  {
   "cell_type": "code",
   "execution_count": null,
   "source": [
    "def main():\n",
    "    \"\"\"\n",
    "        This is main function\n",
    "    \"\"\"\n",
    "    try:\n",
    "        count = 1\n",
    "        while True:\n",
    "            print(count)\n",
    "            mongodb_host = '<mongodb ip>'\n",
    "            mongodb_port = '27041'\n",
    "            mongodb_database_name = 'tests'\n",
    "            mongodb_collection_name = 'users'\n",
    "            datas = []\n",
    "            for _index in range(5000):\n",
    "                datas.append(create_sample_data())\n",
    "            # preview_datas_with_dataframe(\n",
    "            #     _datas = datas\n",
    "            # )\n",
    "            df_as_json = transform_dataframe_to_json(\n",
    "                _datas = datas\n",
    "            )\n",
    "            insert_datas_to_mongodb(\n",
    "                _mongodb_host = mongodb_host,\n",
    "                _mongodb_port = mongodb_port,\n",
    "                _mongodb_database_name = mongodb_database_name,\n",
    "                _mongodb_collection_name = mongodb_collection_name,\n",
    "                _datas = df_as_json\n",
    "            )\n",
    "            count = count + 1\n",
    "    except:\n",
    "        raise"
   ],
   "outputs": [],
   "metadata": {}
  },
  {
   "cell_type": "code",
   "execution_count": null,
   "source": [
    "if __name__ == '__main__':\n",
    "    main()"
   ],
   "outputs": [],
   "metadata": {}
  }
 ],
 "metadata": {
  "orig_nbformat": 4,
  "language_info": {
   "name": "python",
   "version": "3.8.6",
   "mimetype": "text/x-python",
   "codemirror_mode": {
    "name": "ipython",
    "version": 3
   },
   "pygments_lexer": "ipython3",
   "nbconvert_exporter": "python",
   "file_extension": ".py"
  },
  "kernelspec": {
   "name": "python3",
   "display_name": "Python 3.8.6 64-bit ('3.8.6': pyenv)"
  },
  "interpreter": {
   "hash": "5534ca191f0ec73724d8c90eb556c974d9046d7de8a4d35d063489447ecbefda"
  }
 },
 "nbformat": 4,
 "nbformat_minor": 2
}